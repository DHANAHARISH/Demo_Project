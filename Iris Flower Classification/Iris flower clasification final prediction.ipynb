{
 "cells": [
  {
   "cell_type": "code",
   "execution_count": 59,
   "id": "fcabc21f-ff49-434b-a040-c45474d1fabe",
   "metadata": {},
   "outputs": [],
   "source": [
    "import pandas as pd \n",
    "import numpy as np\n",
    "import joblib as jb\n",
    "import seaborn as sns \n",
    "import matplotlib.pyplot as plt\n",
    "import warnings\n",
    "warnings.filterwarnings('ignore')"
   ]
  },
  {
   "cell_type": "code",
   "execution_count": 60,
   "id": "4cd1bd4e-c6dd-4546-b8fc-7fe4a1d8cbfd",
   "metadata": {},
   "outputs": [],
   "source": [
    "MinMaxScaler_model=jb.load('D:/DS NOTE/OASIS INFO BYTE/Iris Flower Classification/train/model/train_min_Species_model.pkl')\n",
    "StandardScaler_model=jb.load('D:/DS NOTE/OASIS INFO BYTE/Iris Flower Classification/train/model/train_Standard_Species_model.pkl')\n",
    "model=jb.load('D:/DS NOTE/OASIS INFO BYTE/Iris Flower Classification/train/model/svm_model.pkl')"
   ]
  },
  {
   "cell_type": "code",
   "execution_count": 61,
   "id": "b2e771b8-ed6b-4401-ba1d-ed016f6e5e0c",
   "metadata": {},
   "outputs": [],
   "source": [
    "def flow(X_path):\n",
    "    # read \n",
    "    data=pd.read_csv(X_path)\n",
    "    #Outlier removed \n",
    "    q1=data['SepalWidthCm'].quantile(0.25)\n",
    "    q3=data['SepalWidthCm'].quantile(0.75)\n",
    "    IQR=q3-q1\n",
    "    lower_range=q1-1.5*IQR\n",
    "    upper_range=q3+IQR\n",
    "    #Capping \n",
    "    data['SepalWidthCm']=np.where(data['SepalWidthCm']<lower_range,lower_range,\n",
    "                         np.where(data['SepalWidthCm']>upper_range,upper_range,\n",
    "                                  data['SepalWidthCm']))\n",
    "    # data split \n",
    "    x_test=data.drop('Species',axis=1).copy()\n",
    "    y_test=data['Species'].copy()\n",
    "    #Map fuction \n",
    "    y_test=y_test.replace({'Iris-versicolor':0,'Iris-setosa':1,'Iris-virginica':2})\n",
    "    # minmax scaler \n",
    "    min_Species=MinMaxScaler_model.transform(x_test)\n",
    "    min_species_df=pd.DataFrame(min_Species,columns=x_test.columns)\n",
    "    # Standard\n",
    "    Standard_Species=StandardScaler_model.transform(min_species_df)\n",
    "    Standard_Species_df=pd.DataFrame(Standard_Species,columns=min_species_df.columns)\n",
    "    # prediction\n",
    "    y_pred=pd.DataFrame(model.predict(Standard_Species_df))\n",
    "    Y_pred=y_pred.replace({0:'Iris-versicolor',1:'Iris-setosa',2:'Iris-virginica'})\n",
    "    Y_pred=Y_pred.rename(columns={0: 'Species'})\n",
    "    # metrices \n",
    "    classification_rep = classification_report(y_test,y_pred)\n",
    "    cm = confusion_matrix(y_test,y_pred)\n",
    "    disp = ConfusionMatrixDisplay(confusion_matrix=cm)\n",
    "   \n",
    "   \n",
    "    return  Y_pred, classification_rep,cm,disp"
   ]
  },
  {
   "cell_type": "code",
   "execution_count": 63,
   "id": "d7d4b011-f8cb-4b74-833a-1162c5fc6883",
   "metadata": {},
   "outputs": [],
   "source": [
    "X_test_path ='D:/DS NOTE/OASIS INFO BYTE/Iris Flower Classification/test/Raw/test.csv'\n",
    "Y_pred,classification_rep,cm,disp=flow(X_test_path)"
   ]
  },
  {
   "cell_type": "code",
   "execution_count": 64,
   "id": "67c2ab6c-72f7-4fd6-9f99-d03f0b730f7c",
   "metadata": {},
   "outputs": [
    {
     "data": {
      "text/html": [
       "<div>\n",
       "<style scoped>\n",
       "    .dataframe tbody tr th:only-of-type {\n",
       "        vertical-align: middle;\n",
       "    }\n",
       "\n",
       "    .dataframe tbody tr th {\n",
       "        vertical-align: top;\n",
       "    }\n",
       "\n",
       "    .dataframe thead th {\n",
       "        text-align: right;\n",
       "    }\n",
       "</style>\n",
       "<table border=\"1\" class=\"dataframe\">\n",
       "  <thead>\n",
       "    <tr style=\"text-align: right;\">\n",
       "      <th></th>\n",
       "      <th>Species</th>\n",
       "    </tr>\n",
       "  </thead>\n",
       "  <tbody>\n",
       "    <tr>\n",
       "      <th>0</th>\n",
       "      <td>Iris-versicolor</td>\n",
       "    </tr>\n",
       "    <tr>\n",
       "      <th>1</th>\n",
       "      <td>Iris-virginica</td>\n",
       "    </tr>\n",
       "    <tr>\n",
       "      <th>2</th>\n",
       "      <td>Iris-versicolor</td>\n",
       "    </tr>\n",
       "    <tr>\n",
       "      <th>3</th>\n",
       "      <td>Iris-versicolor</td>\n",
       "    </tr>\n",
       "    <tr>\n",
       "      <th>4</th>\n",
       "      <td>Iris-virginica</td>\n",
       "    </tr>\n",
       "    <tr>\n",
       "      <th>...</th>\n",
       "      <td>...</td>\n",
       "    </tr>\n",
       "    <tr>\n",
       "      <th>70</th>\n",
       "      <td>Iris-versicolor</td>\n",
       "    </tr>\n",
       "    <tr>\n",
       "      <th>71</th>\n",
       "      <td>Iris-virginica</td>\n",
       "    </tr>\n",
       "    <tr>\n",
       "      <th>72</th>\n",
       "      <td>Iris-versicolor</td>\n",
       "    </tr>\n",
       "    <tr>\n",
       "      <th>73</th>\n",
       "      <td>Iris-versicolor</td>\n",
       "    </tr>\n",
       "    <tr>\n",
       "      <th>74</th>\n",
       "      <td>Iris-setosa</td>\n",
       "    </tr>\n",
       "  </tbody>\n",
       "</table>\n",
       "<p>75 rows × 1 columns</p>\n",
       "</div>"
      ],
      "text/plain": [
       "            Species\n",
       "0   Iris-versicolor\n",
       "1    Iris-virginica\n",
       "2   Iris-versicolor\n",
       "3   Iris-versicolor\n",
       "4    Iris-virginica\n",
       "..              ...\n",
       "70  Iris-versicolor\n",
       "71   Iris-virginica\n",
       "72  Iris-versicolor\n",
       "73  Iris-versicolor\n",
       "74      Iris-setosa\n",
       "\n",
       "[75 rows x 1 columns]"
      ]
     },
     "execution_count": 64,
     "metadata": {},
     "output_type": "execute_result"
    }
   ],
   "source": [
    "Y_pred"
   ]
  },
  {
   "cell_type": "code",
   "execution_count": 65,
   "id": "333fc959-e39d-4fe5-9403-d8160186c38a",
   "metadata": {},
   "outputs": [
    {
     "name": "stdout",
     "output_type": "stream",
     "text": [
      "              precision    recall  f1-score   support\n",
      "\n",
      "           0       0.77      1.00      0.87        23\n",
      "           1       1.00      1.00      1.00        28\n",
      "           2       1.00      0.71      0.83        24\n",
      "\n",
      "    accuracy                           0.91        75\n",
      "   macro avg       0.92      0.90      0.90        75\n",
      "weighted avg       0.93      0.91      0.90        75\n",
      "\n"
     ]
    }
   ],
   "source": [
    "classification_rep\n",
    "print(classification_rep)"
   ]
  },
  {
   "cell_type": "code",
   "execution_count": 66,
   "id": "916ac0d3-91fa-424c-b592-a58de40b25cc",
   "metadata": {},
   "outputs": [
    {
     "data": {
      "text/plain": [
       "array([[23,  0,  0],\n",
       "       [ 0, 28,  0],\n",
       "       [ 7,  0, 17]], dtype=int64)"
      ]
     },
     "execution_count": 66,
     "metadata": {},
     "output_type": "execute_result"
    }
   ],
   "source": [
    "cm"
   ]
  },
  {
   "cell_type": "code",
   "execution_count": 67,
   "id": "31692f29-ecd3-47b9-bc00-752485a44e70",
   "metadata": {},
   "outputs": [
    {
     "data": {
      "image/png": "[encoded data removed]",
      "text/plain": [
       "<Figure size 640x480 with 2 Axes>"
      ]
     },
     "metadata": {},
     "output_type": "display_data"
    }
   ],
   "source": [
    "disp\n",
    "disp.plot()\n",
    "plt.show()"
   ]
  },
  {
   "cell_type": "code",
   "execution_count": null,
   "id": "31af819c-7d7a-48fe-ba9c-8ec6cd2fbce6",
   "metadata": {},
   "outputs": [],
   "source": []
  }
 ],
 "metadata": {
  "kernelspec": {
   "display_name": "Python 3 (ipykernel)",
   "language": "python",
   "name": "python3"
  },
  "language_info": {
   "codemirror_mode": {
    "name": "ipython",
    "version": 3
   },
   "file_extension": ".py",
   "mimetype": "text/x-python",
   "name": "python",
   "nbconvert_exporter": "python",
   "pygments_lexer": "ipython3",
   "version": "3.10.11"
  }
 },
 "nbformat": 4,
 "nbformat_minor": 5
}
